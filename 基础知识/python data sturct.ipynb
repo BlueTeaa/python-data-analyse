{
 "cells": [
  {
   "cell_type": "markdown",
   "id": "e7c8ce5f",
   "metadata": {},
   "source": [
    "# python数据结构\n",
    "① Boolean\n",
    "② Boolean and Logical Operators\n",
    "③ Lists 序列函数\n",
    "④ Sets集合函数\n",
    "⑤ Dictionaries 字典函数\n",
    "⑥ Tuples 元组函数"
   ]
  },
  {
   "cell_type": "markdown",
   "id": "e7732a65",
   "metadata": {},
   "source": [
    "## Boolean\n",
    "Boolean values are the two constant objects True and False"
   ]
  },
  {
   "cell_type": "code",
   "execution_count": 3,
   "id": "47f73dd1",
   "metadata": {
    "scrolled": true
   },
   "outputs": [
    {
     "data": {
      "text/plain": [
       "False"
      ]
     },
     "execution_count": 3,
     "metadata": {},
     "output_type": "execute_result"
    }
   ],
   "source": [
    "False"
   ]
  },
  {
   "cell_type": "code",
   "execution_count": 4,
   "id": "a2083242",
   "metadata": {},
   "outputs": [
    {
     "data": {
      "text/plain": [
       "bool"
      ]
     },
     "execution_count": 4,
     "metadata": {},
     "output_type": "execute_result"
    }
   ],
   "source": [
    "type(False)"
   ]
  },
  {
   "cell_type": "code",
   "execution_count": 6,
   "id": "cad229ac",
   "metadata": {},
   "outputs": [],
   "source": [
    "mystr = \"小麦\""
   ]
  },
  {
   "cell_type": "code",
   "execution_count": 7,
   "id": "dca658a3",
   "metadata": {},
   "outputs": [
    {
     "data": {
      "text/plain": [
       "False"
      ]
     },
     "execution_count": 7,
     "metadata": {},
     "output_type": "execute_result"
    }
   ],
   "source": [
    "mystr.istitle()"
   ]
  },
  {
   "cell_type": "markdown",
   "id": "89787a28",
   "metadata": {},
   "source": [
    "## Boolean and Logical Operators"
   ]
  },
  {
   "cell_type": "code",
   "execution_count": 8,
   "id": "820ec98a",
   "metadata": {},
   "outputs": [],
   "source": [
    "str_example = \"hello world\"\n",
    "my_str = \"小麦\""
   ]
  },
  {
   "cell_type": "code",
   "execution_count": 9,
   "id": "ca33f647",
   "metadata": {},
   "outputs": [
    {
     "data": {
      "text/plain": [
       "False"
      ]
     },
     "execution_count": 9,
     "metadata": {},
     "output_type": "execute_result"
    }
   ],
   "source": [
    "str_example.isalnum()"
   ]
  },
  {
   "cell_type": "code",
   "execution_count": 10,
   "id": "bd764811",
   "metadata": {},
   "outputs": [
    {
     "data": {
      "text/plain": [
       "True"
      ]
     },
     "execution_count": 10,
     "metadata": {},
     "output_type": "execute_result"
    }
   ],
   "source": [
    "my_str.isalpha() or str_example.isalnum()"
   ]
  },
  {
   "cell_type": "markdown",
   "id": "a0b95349",
   "metadata": {},
   "source": [
    "## Lists序列函数\n",
    "序列中的每个元素都分配一个数字代表他的位置及索引，第一个索引是0，第二个索引是1，以此类推\n",
    "序列可作为一个方括号内的逗号分隔值出现\n",
    "\n",
    "append 添加函数  insert 插入函数  extend扩展函数 pop函数（弹出列表中的值） count函数（计算列表中数据出现的次数）  index索引函数"
   ]
  },
  {
   "cell_type": "code",
   "execution_count": 11,
   "id": "39409995",
   "metadata": {},
   "outputs": [],
   "source": [
    "lst = ['Matheatics', 'chemistry', 100, 200, 300]"
   ]
  },
  {
   "cell_type": "code",
   "execution_count": 12,
   "id": "febd9992",
   "metadata": {},
   "outputs": [
    {
     "data": {
      "text/plain": [
       "100"
      ]
     },
     "execution_count": 12,
     "metadata": {},
     "output_type": "execute_result"
    }
   ],
   "source": [
    "lst[2]"
   ]
  },
  {
   "cell_type": "markdown",
   "id": "5dbe5c06",
   "metadata": {},
   "source": [
    "### append 添加函数"
   ]
  },
  {
   "cell_type": "code",
   "execution_count": null,
   "id": "d2c04c85",
   "metadata": {},
   "outputs": [],
   "source": []
  },
  {
   "cell_type": "code",
   "execution_count": 13,
   "id": "97c7599c",
   "metadata": {},
   "outputs": [],
   "source": [
    "lst.append('language')\n",
    "lst.append(['yuwen', 'english'])"
   ]
  },
  {
   "cell_type": "code",
   "execution_count": 16,
   "id": "c754e2c7",
   "metadata": {},
   "outputs": [
    {
     "data": {
      "text/plain": [
       "[100, 200, 300, 'language', ['yuwen', 'english']]"
      ]
     },
     "execution_count": 16,
     "metadata": {},
     "output_type": "execute_result"
    }
   ],
   "source": [
    "lst[2:7]"
   ]
  },
  {
   "cell_type": "markdown",
   "id": "f06954b1",
   "metadata": {},
   "source": [
    "### insert 插入函数"
   ]
  },
  {
   "cell_type": "code",
   "execution_count": 17,
   "id": "bbae61da",
   "metadata": {},
   "outputs": [],
   "source": [
    "lst.insert(3, \"jane\") #列表第三个位置插入jane"
   ]
  },
  {
   "cell_type": "code",
   "execution_count": 18,
   "id": "c043d8cc",
   "metadata": {},
   "outputs": [
    {
     "data": {
      "text/plain": [
       "['Matheatics',\n",
       " 'chemistry',\n",
       " 100,\n",
       " 'jane',\n",
       " 200,\n",
       " 300,\n",
       " 'language',\n",
       " ['yuwen', 'english']]"
      ]
     },
     "execution_count": 18,
     "metadata": {},
     "output_type": "execute_result"
    }
   ],
   "source": [
    "lst"
   ]
  },
  {
   "cell_type": "markdown",
   "id": "b93434dc",
   "metadata": {},
   "source": [
    "### extend 扩展函数"
   ]
  },
  {
   "cell_type": "code",
   "execution_count": 19,
   "id": "f1adf2d0",
   "metadata": {},
   "outputs": [],
   "source": [
    "lst = [1,2,3,4,5,6]\n",
    "lst.extend([7,8]) #将7和8作为一个值添加到lst列表中去"
   ]
  },
  {
   "cell_type": "code",
   "execution_count": 20,
   "id": "a8d5eb88",
   "metadata": {},
   "outputs": [
    {
     "data": {
      "text/plain": [
       "[1, 2, 3, 4, 5, 6, 7, 8]"
      ]
     },
     "execution_count": 20,
     "metadata": {},
     "output_type": "execute_result"
    }
   ],
   "source": [
    "lst"
   ]
  },
  {
   "cell_type": "markdown",
   "id": "cb9469d3",
   "metadata": {},
   "source": [
    "## set集合函数\n",
    "创建一个无序不重复元素集，可进行关系测试、删除重复数据，还可以计算交集、差集、并集等\n",
    "\n",
    "与list的区别：大括号、无重复、"
   ]
  },
  {
   "cell_type": "code",
   "execution_count": 1,
   "id": "6663691b",
   "metadata": {},
   "outputs": [
    {
     "name": "stdout",
     "output_type": "stream",
     "text": [
      "set()\n",
      "<class 'set'>\n"
     ]
    }
   ],
   "source": [
    "set_var = set()\n",
    "print(set_var)\n",
    "print(type(set_var))"
   ]
  },
  {
   "cell_type": "code",
   "execution_count": 2,
   "id": "f0fd8735",
   "metadata": {},
   "outputs": [
    {
     "name": "stdout",
     "output_type": "stream",
     "text": [
      "{1, 2, 3, 4, 5, 6, 9}\n"
     ]
    }
   ],
   "source": [
    "set_var = {1, 2, 9, 4, 3, 5, 6, 4}\n",
    "print(set_var)  #顺序无重复"
   ]
  },
  {
   "cell_type": "code",
   "execution_count": 3,
   "id": "fa265076",
   "metadata": {},
   "outputs": [
    {
     "name": "stdout",
     "output_type": "stream",
     "text": [
      "{'banana', 'pear', 'apple'}\n"
     ]
    }
   ],
   "source": [
    "set_var2 = {\"apple\", \"banana\", \"pear\"}\n",
    "print(set_var2) #"
   ]
  },
  {
   "cell_type": "code",
   "execution_count": 5,
   "id": "a22c8441",
   "metadata": {},
   "outputs": [
    {
     "name": "stdout",
     "output_type": "stream",
     "text": [
      "{'cherry', 'banana', 'pear', 'apple'}\n"
     ]
    }
   ],
   "source": [
    "#添加函数 add\n",
    "set_var2.add(\"cherry\")\n",
    "print(set_var2)"
   ]
  },
  {
   "cell_type": "code",
   "execution_count": 16,
   "id": "afc7a110",
   "metadata": {},
   "outputs": [],
   "source": [
    "set1 = {'banana', 'pear', 'apple'}\n",
    "set2 = {'cherry', 'banana', 'pear', 'apple'}"
   ]
  },
  {
   "cell_type": "code",
   "execution_count": 14,
   "id": "a6fa6bf7",
   "metadata": {},
   "outputs": [
    {
     "name": "stdout",
     "output_type": "stream",
     "text": [
      "{'banana', 'pear', 'apple'}\n"
     ]
    }
   ],
   "source": [
    "set2.intersection_update(set1)  #交集，将set2更新为交集\n",
    "print(set2)"
   ]
  },
  {
   "cell_type": "code",
   "execution_count": 17,
   "id": "272a538e",
   "metadata": {},
   "outputs": [
    {
     "name": "stdout",
     "output_type": "stream",
     "text": [
      "{'cherry', 'banana', 'pear', 'apple'}\n",
      "{'cherry'}\n"
     ]
    }
   ],
   "source": [
    "set2.difference(set1)#差集 \n",
    "print(set2)\n",
    "set2.difference_update(set1) #将set2更新为差集\n",
    "print(set2)"
   ]
  },
  {
   "cell_type": "markdown",
   "id": "8d1916e2",
   "metadata": {},
   "source": [
    "## Dictionaries字典函数\n",
    "关联数组或哈希表\n",
    "大括号，键和值"
   ]
  },
  {
   "cell_type": "code",
   "execution_count": 18,
   "id": "e0a2b8d6",
   "metadata": {},
   "outputs": [
    {
     "data": {
      "text/plain": [
       "dict"
      ]
     },
     "execution_count": 18,
     "metadata": {},
     "output_type": "execute_result"
    }
   ],
   "source": [
    "dic = {}\n",
    "type(dic)"
   ]
  },
  {
   "cell_type": "code",
   "execution_count": 20,
   "id": "ab3ae7f7",
   "metadata": {},
   "outputs": [
    {
     "name": "stdout",
     "output_type": "stream",
     "text": [
      "{'car1': 'aodi', 'car2': 'baoma', 'car3': 'benchi'}\n"
     ]
    }
   ],
   "source": [
    "dic = {'car1': \"aodi\", 'car2' : \"baoma\", 'car3' : \"benchi\"}\n",
    "print(dic)"
   ]
  },
  {
   "cell_type": "code",
   "execution_count": 25,
   "id": "4871e1cf",
   "metadata": {},
   "outputs": [
    {
     "name": "stdout",
     "output_type": "stream",
     "text": [
      "{'car1': 'nisang', 'car2': 'baoma', 'car3': 'benchi', 'car4': 'aodi2'}\n"
     ]
    }
   ],
   "source": [
    "dic['car4'] = \"aodi2\"\n",
    "dic['car1'] = \"nisang\"\n",
    "print(dic)"
   ]
  },
  {
   "cell_type": "code",
   "execution_count": 26,
   "id": "c4ae1939",
   "metadata": {},
   "outputs": [
    {
     "name": "stdout",
     "output_type": "stream",
     "text": [
      "('car1', 'nisang')\n",
      "('car2', 'baoma')\n",
      "('car3', 'benchi')\n",
      "('car4', 'aodi2')\n"
     ]
    }
   ],
   "source": [
    "for x in dic.items():\n",
    "    print(x)"
   ]
  },
  {
   "cell_type": "markdown",
   "id": "5b1af765",
   "metadata": {},
   "source": [
    "## Nested Dictionary 嵌套字典"
   ]
  },
  {
   "cell_type": "code",
   "execution_count": 27,
   "id": "165a70da",
   "metadata": {},
   "outputs": [],
   "source": [
    "car1_model = {'nisang': '1997'}\n",
    "car2_model = {'baoma': '1998'}\n",
    "car3_model = {'benchi': '2000'}\n",
    "\n",
    "car_type = {'car1': car1_model,'car2': car2_model,'car3': car3_model,}"
   ]
  },
  {
   "cell_type": "code",
   "execution_count": 28,
   "id": "6dbee660",
   "metadata": {},
   "outputs": [
    {
     "data": {
      "text/plain": [
       "{'car1': {'nisang': '1997'},\n",
       " 'car2': {'baoma': '1998'},\n",
       " 'car3': {'benchi': '2000'}}"
      ]
     },
     "execution_count": 28,
     "metadata": {},
     "output_type": "execute_result"
    }
   ],
   "source": [
    "car_type"
   ]
  },
  {
   "cell_type": "code",
   "execution_count": 30,
   "id": "34f14d95",
   "metadata": {},
   "outputs": [
    {
     "data": {
      "text/plain": [
       "{'nisang': '1997'}"
      ]
     },
     "execution_count": 30,
     "metadata": {},
     "output_type": "execute_result"
    }
   ],
   "source": [
    "car_type['car1']"
   ]
  },
  {
   "cell_type": "markdown",
   "id": "5f5e57eb",
   "metadata": {},
   "source": [
    "## Tuples 元组函数\n",
    "元组使用圆括号，"
   ]
  },
  {
   "cell_type": "code",
   "execution_count": 31,
   "id": "f4932671",
   "metadata": {},
   "outputs": [
    {
     "data": {
      "text/plain": [
       "tuple"
      ]
     },
     "execution_count": 31,
     "metadata": {},
     "output_type": "execute_result"
    }
   ],
   "source": [
    "my_tuple = tuple()\n",
    "type(my_tuple)"
   ]
  }
 ],
 "metadata": {
  "kernelspec": {
   "display_name": "Python 3 (ipykernel)",
   "language": "python",
   "name": "python3"
  },
  "language_info": {
   "codemirror_mode": {
    "name": "ipython",
    "version": 3
   },
   "file_extension": ".py",
   "mimetype": "text/x-python",
   "name": "python",
   "nbconvert_exporter": "python",
   "pygments_lexer": "ipython3",
   "version": "3.9.12"
  }
 },
 "nbformat": 4,
 "nbformat_minor": 5
}

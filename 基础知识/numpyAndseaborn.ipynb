{
 "cells": [
  {
   "cell_type": "markdown",
   "id": "51048f0c",
   "metadata": {},
   "source": [
    "# Numpy , Seaborn库\n",
    "## 在anaconda命令下安装Numpy库和Seaborn库\n",
    "pip install numpy 或者 conda install numpy\n",
    "\n",
    "Numpy是一个扩展程序库，支持大量的维度数组与矩阵运算，同时也针对数组运算提供大量的数学函数库\n",
    "Seaborn是一个数据可视化库，在matplotlib基础上的封装\n"
   ]
  },
  {
   "cell_type": "code",
   "execution_count": 2,
   "id": "36c0d32f",
   "metadata": {},
   "outputs": [],
   "source": [
    "import numpy as np"
   ]
  },
  {
   "cell_type": "code",
   "execution_count": 5,
   "id": "0626595f",
   "metadata": {},
   "outputs": [
    {
     "name": "stdout",
     "output_type": "stream",
     "text": [
      "[1 2 3 4 5]\n"
     ]
    }
   ],
   "source": [
    "my_lst = [1, 2, 3, 4, 5]\n",
    "arr = np.array(my_lst)\n",
    "\n",
    "type(arr)\n",
    "print(arr)"
   ]
  },
  {
   "cell_type": "code",
   "execution_count": 7,
   "id": "4c51cb6c",
   "metadata": {},
   "outputs": [
    {
     "data": {
      "text/plain": [
       "(5,)"
      ]
     },
     "execution_count": 7,
     "metadata": {},
     "output_type": "execute_result"
    }
   ],
   "source": [
    "arr.shape #矩阵的形状 五行"
   ]
  },
  {
   "cell_type": "code",
   "execution_count": 9,
   "id": "ad27cf0d",
   "metadata": {},
   "outputs": [],
   "source": [
    "my_lst1 = [1,2,3,4,5]\n",
    "my_lst2 = [6,7,8,9,10]\n",
    "my_lst3 = [11,12,13,14,15]\n",
    "\n",
    "arr = np.array([my_lst1,my_lst2,my_lst3])  #这里需要添加中括号"
   ]
  },
  {
   "cell_type": "code",
   "execution_count": 11,
   "id": "2160031d",
   "metadata": {},
   "outputs": [
    {
     "data": {
      "text/plain": [
       "(3, 5)"
      ]
     },
     "execution_count": 11,
     "metadata": {},
     "output_type": "execute_result"
    }
   ],
   "source": [
    "arr.shape #三行五列的矩阵"
   ]
  },
  {
   "cell_type": "code",
   "execution_count": 13,
   "id": "9751abc4",
   "metadata": {},
   "outputs": [
    {
     "data": {
      "text/plain": [
       "array([11, 12, 13, 14, 15])"
      ]
     },
     "execution_count": 13,
     "metadata": {},
     "output_type": "execute_result"
    }
   ],
   "source": [
    "arr[2] #显示第三行"
   ]
  },
  {
   "cell_type": "code",
   "execution_count": 15,
   "id": "6cc93a12",
   "metadata": {},
   "outputs": [
    {
     "data": {
      "text/plain": [
       "12"
      ]
     },
     "execution_count": 15,
     "metadata": {},
     "output_type": "execute_result"
    }
   ],
   "source": [
    "arr[2,1] #第三行第二列"
   ]
  },
  {
   "cell_type": "code",
   "execution_count": 17,
   "id": "6102f146",
   "metadata": {},
   "outputs": [
    {
     "data": {
      "text/plain": [
       "array([[ 7,  8,  9, 10],\n",
       "       [12, 13, 14, 15]])"
      ]
     },
     "execution_count": 17,
     "metadata": {},
     "output_type": "execute_result"
    }
   ],
   "source": [
    "arr1 = arr\n",
    "arr1[1:,1:5]  #代表的意思是 从第一行到后面所有，从第一列到第五列"
   ]
  },
  {
   "cell_type": "code",
   "execution_count": 19,
   "id": "accc16aa",
   "metadata": {},
   "outputs": [
    {
     "data": {
      "text/plain": [
       "array([[ 1,  2,  3],\n",
       "       [ 6,  7,  8],\n",
       "       [11, 12, 13]])"
      ]
     },
     "execution_count": 19,
     "metadata": {},
     "output_type": "execute_result"
    }
   ],
   "source": [
    "arr1[:,:3]"
   ]
  },
  {
   "cell_type": "code",
   "execution_count": 22,
   "id": "5c56e068",
   "metadata": {},
   "outputs": [
    {
     "data": {
      "text/plain": [
       "array([[ 0,  1,  2,  3],\n",
       "       [ 4,  5,  6,  7],\n",
       "       [ 8,  9, 10, 11]])"
      ]
     },
     "execution_count": 22,
     "metadata": {},
     "output_type": "execute_result"
    }
   ],
   "source": [
    "arr2 = np.arange(0,12).reshape(3,4)\n",
    "arr2"
   ]
  },
  {
   "cell_type": "code",
   "execution_count": 24,
   "id": "579aa04c",
   "metadata": {},
   "outputs": [
    {
     "data": {
      "text/plain": [
       "array([[0.51071273, 0.26088488, 0.20438616],\n",
       "       [0.8921814 , 0.92303532, 0.28642492],\n",
       "       [0.62675749, 0.17134845, 0.38175785]])"
      ]
     },
     "execution_count": 24,
     "metadata": {},
     "output_type": "execute_result"
    }
   ],
   "source": [
    "arr_junyun = np.random.rand(3,3) #rand 均匀分布\n",
    "arr_junyun"
   ]
  },
  {
   "cell_type": "code",
   "execution_count": 27,
   "id": "5e9d52ed",
   "metadata": {},
   "outputs": [
    {
     "data": {
      "text/plain": [
       "array([[-0.00659754,  0.5754    ,  0.01833517],\n",
       "       [ 0.93845386,  0.50159326, -1.28371397],\n",
       "       [-0.4398882 , -2.23794574, -1.19875829],\n",
       "       [ 0.57803079,  1.10099338,  0.1531622 ]])"
      ]
     },
     "execution_count": 27,
     "metadata": {},
     "output_type": "execute_result"
    }
   ],
   "source": [
    "arr_zhengtai = np.random.randn(4,3) #randn 正态分布 \n",
    "arr_zhengtai"
   ]
  },
  {
   "cell_type": "code",
   "execution_count": 28,
   "id": "cd45d3c5",
   "metadata": {},
   "outputs": [],
   "source": [
    "import seaborn as sns"
   ]
  },
  {
   "cell_type": "code",
   "execution_count": 32,
   "id": "8d905d09",
   "metadata": {},
   "outputs": [
    {
     "data": {
      "text/plain": [
       "<seaborn.axisgrid.FacetGrid at 0x26665bb7400>"
      ]
     },
     "execution_count": 32,
     "metadata": {},
     "output_type": "execute_result"
    },
    {
     "data": {
      "image/png": "[encoded data removed]",
      "text/plain": [
       "<Figure size 402.375x360 with 1 Axes>"
      ]
     },
     "metadata": {
      "needs_background": "light"
     },
     "output_type": "display_data"
    }
   ],
   "source": [
    "sns.displot(arr_junyun)"
   ]
  }
 ],
 "metadata": {
  "kernelspec": {
   "display_name": "Python 3 (ipykernel)",
   "language": "python",
   "name": "python3"
  },
  "language_info": {
   "codemirror_mode": {
    "name": "ipython",
    "version": 3
   },
   "file_extension": ".py",
   "mimetype": "text/x-python",
   "name": "python",
   "nbconvert_exporter": "python",
   "pygments_lexer": "ipython3",
   "version": "3.9.12"
  }
 },
 "nbformat": 4,
 "nbformat_minor": 5
}

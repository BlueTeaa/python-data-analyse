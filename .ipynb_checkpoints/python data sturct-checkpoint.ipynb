{
 "cells": [
  {
   "cell_type": "markdown",
   "id": "0660e3e7",
   "metadata": {},
   "source": [
    "# python数据结构\n",
    "① Boolean\n",
    "② Boolean and Logical Operators\n",
    "③ Lists 序列函数\n",
    "④ Sets集合函数\n",
    "⑤ Dictionaries 字典函数\n",
    "⑥ Tuples 元组函数"
   ]
  },
  {
   "cell_type": "markdown",
   "id": "2a6483f6",
   "metadata": {},
   "source": [
    "## Boolean\n",
    "Boolean values are the two constant objects True and False"
   ]
  },
  {
   "cell_type": "code",
   "execution_count": 3,
   "id": "e026ee63",
   "metadata": {
    "scrolled": true
   },
   "outputs": [
    {
     "data": {
      "text/plain": [
       "False"
      ]
     },
     "execution_count": 3,
     "metadata": {},
     "output_type": "execute_result"
    }
   ],
   "source": [
    "False"
   ]
  },
  {
   "cell_type": "code",
   "execution_count": 4,
   "id": "3a846b81",
   "metadata": {},
   "outputs": [
    {
     "data": {
      "text/plain": [
       "bool"
      ]
     },
     "execution_count": 4,
     "metadata": {},
     "output_type": "execute_result"
    }
   ],
   "source": [
    "type(False)"
   ]
  },
  {
   "cell_type": "code",
   "execution_count": 6,
   "id": "9bfd5587",
   "metadata": {},
   "outputs": [],
   "source": [
    "mystr = \"小麦\""
   ]
  },
  {
   "cell_type": "code",
   "execution_count": 7,
   "id": "e4fcd852",
   "metadata": {},
   "outputs": [
    {
     "data": {
      "text/plain": [
       "False"
      ]
     },
     "execution_count": 7,
     "metadata": {},
     "output_type": "execute_result"
    }
   ],
   "source": [
    "mystr.istitle()"
   ]
  },
  {
   "cell_type": "markdown",
   "id": "d6a5ffea",
   "metadata": {},
   "source": [
    "## Boolean and Logical Operators"
   ]
  },
  {
   "cell_type": "code",
   "execution_count": 8,
   "id": "7866e5de",
   "metadata": {},
   "outputs": [],
   "source": [
    "str_example = \"hello world\"\n",
    "my_str = \"小麦\""
   ]
  },
  {
   "cell_type": "code",
   "execution_count": 9,
   "id": "71a7ed47",
   "metadata": {},
   "outputs": [
    {
     "data": {
      "text/plain": [
       "False"
      ]
     },
     "execution_count": 9,
     "metadata": {},
     "output_type": "execute_result"
    }
   ],
   "source": [
    "str_example.isalnum()"
   ]
  },
  {
   "cell_type": "code",
   "execution_count": 10,
   "id": "37d73016",
   "metadata": {},
   "outputs": [
    {
     "data": {
      "text/plain": [
       "True"
      ]
     },
     "execution_count": 10,
     "metadata": {},
     "output_type": "execute_result"
    }
   ],
   "source": [
    "my_str.isalpha() or str_example.isalnum()"
   ]
  },
  {
   "cell_type": "markdown",
   "id": "9fb660b8",
   "metadata": {},
   "source": [
    "## Lists序列函数\n",
    "序列中的每个元素都分配一个数字代表他的位置及索引，第一个索引是0，第二个索引是1，以此类推\n",
    "序列可作为一个方括号内的逗号分隔值出现"
   ]
  },
  {
   "cell_type": "code",
   "execution_count": 11,
   "id": "d5a2caf8",
   "metadata": {},
   "outputs": [],
   "source": [
    "lst = ['Matheatics', 'chemistry', 100, 200, 300]"
   ]
  },
  {
   "cell_type": "code",
   "execution_count": 12,
   "id": "cb74518f",
   "metadata": {},
   "outputs": [
    {
     "data": {
      "text/plain": [
       "100"
      ]
     },
     "execution_count": 12,
     "metadata": {},
     "output_type": "execute_result"
    }
   ],
   "source": [
    "lst[2]"
   ]
  },
  {
   "cell_type": "markdown",
   "id": "0568153c",
   "metadata": {},
   "source": [
    "### append 添加函数"
   ]
  },
  {
   "cell_type": "code",
   "execution_count": null,
   "id": "e6ca8c13",
   "metadata": {},
   "outputs": [],
   "source": []
  },
  {
   "cell_type": "code",
   "execution_count": 13,
   "id": "448bae6c",
   "metadata": {},
   "outputs": [],
   "source": [
    "lst.append('language')\n",
    "lst.append(['yuwen', 'english'])"
   ]
  },
  {
   "cell_type": "code",
   "execution_count": 16,
   "id": "1e4090af",
   "metadata": {},
   "outputs": [
    {
     "data": {
      "text/plain": [
       "[100, 200, 300, 'language', ['yuwen', 'english']]"
      ]
     },
     "execution_count": 16,
     "metadata": {},
     "output_type": "execute_result"
    }
   ],
   "source": [
    "lst[2:7]"
   ]
  },
  {
   "cell_type": "markdown",
   "id": "d730005e",
   "metadata": {},
   "source": [
    "### insert 插入函数"
   ]
  },
  {
   "cell_type": "code",
   "execution_count": 17,
   "id": "ac1f7272",
   "metadata": {},
   "outputs": [],
   "source": [
    "lst.insert(3, \"jane\")"
   ]
  },
  {
   "cell_type": "code",
   "execution_count": null,
   "id": "e0c6ab22",
   "metadata": {},
   "outputs": [],
   "source": []
  }
 ],
 "metadata": {
  "kernelspec": {
   "display_name": "Python 3 (ipykernel)",
   "language": "python",
   "name": "python3"
  },
  "language_info": {
   "codemirror_mode": {
    "name": "ipython",
    "version": 3
   },
   "file_extension": ".py",
   "mimetype": "text/x-python",
   "name": "python",
   "nbconvert_exporter": "python",
   "pygments_lexer": "ipython3",
   "version": "3.9.12"
  }
 },
 "nbformat": 4,
 "nbformat_minor": 5
}

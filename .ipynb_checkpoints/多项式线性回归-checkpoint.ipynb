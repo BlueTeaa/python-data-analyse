{
 "cells": [
  {
   "cell_type": "markdown",
   "id": "4ccaa161",
   "metadata": {},
   "source": [
    "# 多项式线性回归"
   ]
  },
  {
   "cell_type": "code",
   "execution_count": 2,
   "id": "90975bd0",
   "metadata": {},
   "outputs": [],
   "source": [
    "import pandas as pd\n",
    "import numpy as np\n",
    "import matplotlib.pyplot as plt"
   ]
  },
  {
   "cell_type": "code",
   "execution_count": 3,
   "id": "ff8b0a58",
   "metadata": {},
   "outputs": [],
   "source": [
    "data = pd.read_excel(\"data/age_height.xlsx\")"
   ]
  },
  {
   "cell_type": "code",
   "execution_count": 4,
   "id": "1d0ed30d",
   "metadata": {},
   "outputs": [
    {
     "data": {
      "text/html": [
       "<div>\n",
       "<style scoped>\n",
       "    .dataframe tbody tr th:only-of-type {\n",
       "        vertical-align: middle;\n",
       "    }\n",
       "\n",
       "    .dataframe tbody tr th {\n",
       "        vertical-align: top;\n",
       "    }\n",
       "\n",
       "    .dataframe thead th {\n",
       "        text-align: right;\n",
       "    }\n",
       "</style>\n",
       "<table border=\"1\" class=\"dataframe\">\n",
       "  <thead>\n",
       "    <tr style=\"text-align: right;\">\n",
       "      <th></th>\n",
       "      <th>age</th>\n",
       "      <th>height</th>\n",
       "    </tr>\n",
       "  </thead>\n",
       "  <tbody>\n",
       "    <tr>\n",
       "      <th>0</th>\n",
       "      <td>10</td>\n",
       "      <td>130</td>\n",
       "    </tr>\n",
       "    <tr>\n",
       "      <th>1</th>\n",
       "      <td>10</td>\n",
       "      <td>132</td>\n",
       "    </tr>\n",
       "    <tr>\n",
       "      <th>2</th>\n",
       "      <td>10</td>\n",
       "      <td>134</td>\n",
       "    </tr>\n",
       "    <tr>\n",
       "      <th>3</th>\n",
       "      <td>11</td>\n",
       "      <td>135</td>\n",
       "    </tr>\n",
       "    <tr>\n",
       "      <th>4</th>\n",
       "      <td>11</td>\n",
       "      <td>136</td>\n",
       "    </tr>\n",
       "    <tr>\n",
       "      <th>5</th>\n",
       "      <td>11</td>\n",
       "      <td>138</td>\n",
       "    </tr>\n",
       "    <tr>\n",
       "      <th>6</th>\n",
       "      <td>12</td>\n",
       "      <td>137</td>\n",
       "    </tr>\n",
       "    <tr>\n",
       "      <th>7</th>\n",
       "      <td>12</td>\n",
       "      <td>136</td>\n",
       "    </tr>\n",
       "    <tr>\n",
       "      <th>8</th>\n",
       "      <td>12</td>\n",
       "      <td>139</td>\n",
       "    </tr>\n",
       "    <tr>\n",
       "      <th>9</th>\n",
       "      <td>13</td>\n",
       "      <td>140</td>\n",
       "    </tr>\n",
       "    <tr>\n",
       "      <th>10</th>\n",
       "      <td>13</td>\n",
       "      <td>146</td>\n",
       "    </tr>\n",
       "    <tr>\n",
       "      <th>11</th>\n",
       "      <td>13</td>\n",
       "      <td>145</td>\n",
       "    </tr>\n",
       "    <tr>\n",
       "      <th>12</th>\n",
       "      <td>14</td>\n",
       "      <td>148</td>\n",
       "    </tr>\n",
       "    <tr>\n",
       "      <th>13</th>\n",
       "      <td>14</td>\n",
       "      <td>149</td>\n",
       "    </tr>\n",
       "    <tr>\n",
       "      <th>14</th>\n",
       "      <td>15</td>\n",
       "      <td>147</td>\n",
       "    </tr>\n",
       "    <tr>\n",
       "      <th>15</th>\n",
       "      <td>15</td>\n",
       "      <td>150</td>\n",
       "    </tr>\n",
       "    <tr>\n",
       "      <th>16</th>\n",
       "      <td>15</td>\n",
       "      <td>153</td>\n",
       "    </tr>\n",
       "    <tr>\n",
       "      <th>17</th>\n",
       "      <td>15</td>\n",
       "      <td>154</td>\n",
       "    </tr>\n",
       "    <tr>\n",
       "      <th>18</th>\n",
       "      <td>16</td>\n",
       "      <td>156</td>\n",
       "    </tr>\n",
       "    <tr>\n",
       "      <th>19</th>\n",
       "      <td>16</td>\n",
       "      <td>156</td>\n",
       "    </tr>\n",
       "    <tr>\n",
       "      <th>20</th>\n",
       "      <td>16</td>\n",
       "      <td>157</td>\n",
       "    </tr>\n",
       "    <tr>\n",
       "      <th>21</th>\n",
       "      <td>16</td>\n",
       "      <td>158</td>\n",
       "    </tr>\n",
       "    <tr>\n",
       "      <th>22</th>\n",
       "      <td>17</td>\n",
       "      <td>159</td>\n",
       "    </tr>\n",
       "    <tr>\n",
       "      <th>23</th>\n",
       "      <td>17</td>\n",
       "      <td>158</td>\n",
       "    </tr>\n",
       "    <tr>\n",
       "      <th>24</th>\n",
       "      <td>17</td>\n",
       "      <td>160</td>\n",
       "    </tr>\n",
       "    <tr>\n",
       "      <th>25</th>\n",
       "      <td>18</td>\n",
       "      <td>163</td>\n",
       "    </tr>\n",
       "    <tr>\n",
       "      <th>26</th>\n",
       "      <td>18</td>\n",
       "      <td>163</td>\n",
       "    </tr>\n",
       "    <tr>\n",
       "      <th>27</th>\n",
       "      <td>18</td>\n",
       "      <td>162</td>\n",
       "    </tr>\n",
       "    <tr>\n",
       "      <th>28</th>\n",
       "      <td>18</td>\n",
       "      <td>168</td>\n",
       "    </tr>\n",
       "    <tr>\n",
       "      <th>29</th>\n",
       "      <td>18</td>\n",
       "      <td>165</td>\n",
       "    </tr>\n",
       "    <tr>\n",
       "      <th>30</th>\n",
       "      <td>19</td>\n",
       "      <td>172</td>\n",
       "    </tr>\n",
       "    <tr>\n",
       "      <th>31</th>\n",
       "      <td>19</td>\n",
       "      <td>173</td>\n",
       "    </tr>\n",
       "    <tr>\n",
       "      <th>32</th>\n",
       "      <td>20</td>\n",
       "      <td>178</td>\n",
       "    </tr>\n",
       "    <tr>\n",
       "      <th>33</th>\n",
       "      <td>20</td>\n",
       "      <td>176</td>\n",
       "    </tr>\n",
       "    <tr>\n",
       "      <th>34</th>\n",
       "      <td>20</td>\n",
       "      <td>175</td>\n",
       "    </tr>\n",
       "    <tr>\n",
       "      <th>35</th>\n",
       "      <td>21</td>\n",
       "      <td>179</td>\n",
       "    </tr>\n",
       "    <tr>\n",
       "      <th>36</th>\n",
       "      <td>21</td>\n",
       "      <td>180</td>\n",
       "    </tr>\n",
       "    <tr>\n",
       "      <th>37</th>\n",
       "      <td>21</td>\n",
       "      <td>184</td>\n",
       "    </tr>\n",
       "    <tr>\n",
       "      <th>38</th>\n",
       "      <td>22</td>\n",
       "      <td>181</td>\n",
       "    </tr>\n",
       "    <tr>\n",
       "      <th>39</th>\n",
       "      <td>22</td>\n",
       "      <td>183</td>\n",
       "    </tr>\n",
       "    <tr>\n",
       "      <th>40</th>\n",
       "      <td>22</td>\n",
       "      <td>184</td>\n",
       "    </tr>\n",
       "    <tr>\n",
       "      <th>41</th>\n",
       "      <td>23</td>\n",
       "      <td>185</td>\n",
       "    </tr>\n",
       "    <tr>\n",
       "      <th>42</th>\n",
       "      <td>24</td>\n",
       "      <td>186</td>\n",
       "    </tr>\n",
       "    <tr>\n",
       "      <th>43</th>\n",
       "      <td>25</td>\n",
       "      <td>187</td>\n",
       "    </tr>\n",
       "    <tr>\n",
       "      <th>44</th>\n",
       "      <td>26</td>\n",
       "      <td>188</td>\n",
       "    </tr>\n",
       "    <tr>\n",
       "      <th>45</th>\n",
       "      <td>26</td>\n",
       "      <td>189</td>\n",
       "    </tr>\n",
       "    <tr>\n",
       "      <th>46</th>\n",
       "      <td>26</td>\n",
       "      <td>189</td>\n",
       "    </tr>\n",
       "    <tr>\n",
       "      <th>47</th>\n",
       "      <td>27</td>\n",
       "      <td>190</td>\n",
       "    </tr>\n",
       "    <tr>\n",
       "      <th>48</th>\n",
       "      <td>27</td>\n",
       "      <td>191</td>\n",
       "    </tr>\n",
       "    <tr>\n",
       "      <th>49</th>\n",
       "      <td>27</td>\n",
       "      <td>191</td>\n",
       "    </tr>\n",
       "    <tr>\n",
       "      <th>50</th>\n",
       "      <td>27</td>\n",
       "      <td>192</td>\n",
       "    </tr>\n",
       "    <tr>\n",
       "      <th>51</th>\n",
       "      <td>27</td>\n",
       "      <td>193</td>\n",
       "    </tr>\n",
       "    <tr>\n",
       "      <th>52</th>\n",
       "      <td>28</td>\n",
       "      <td>194</td>\n",
       "    </tr>\n",
       "    <tr>\n",
       "      <th>53</th>\n",
       "      <td>28</td>\n",
       "      <td>193</td>\n",
       "    </tr>\n",
       "    <tr>\n",
       "      <th>54</th>\n",
       "      <td>28</td>\n",
       "      <td>194</td>\n",
       "    </tr>\n",
       "    <tr>\n",
       "      <th>55</th>\n",
       "      <td>28</td>\n",
       "      <td>193</td>\n",
       "    </tr>\n",
       "  </tbody>\n",
       "</table>\n",
       "</div>"
      ],
      "text/plain": [
       "    age  height\n",
       "0    10     130\n",
       "1    10     132\n",
       "2    10     134\n",
       "3    11     135\n",
       "4    11     136\n",
       "5    11     138\n",
       "6    12     137\n",
       "7    12     136\n",
       "8    12     139\n",
       "9    13     140\n",
       "10   13     146\n",
       "11   13     145\n",
       "12   14     148\n",
       "13   14     149\n",
       "14   15     147\n",
       "15   15     150\n",
       "16   15     153\n",
       "17   15     154\n",
       "18   16     156\n",
       "19   16     156\n",
       "20   16     157\n",
       "21   16     158\n",
       "22   17     159\n",
       "23   17     158\n",
       "24   17     160\n",
       "25   18     163\n",
       "26   18     163\n",
       "27   18     162\n",
       "28   18     168\n",
       "29   18     165\n",
       "30   19     172\n",
       "31   19     173\n",
       "32   20     178\n",
       "33   20     176\n",
       "34   20     175\n",
       "35   21     179\n",
       "36   21     180\n",
       "37   21     184\n",
       "38   22     181\n",
       "39   22     183\n",
       "40   22     184\n",
       "41   23     185\n",
       "42   24     186\n",
       "43   25     187\n",
       "44   26     188\n",
       "45   26     189\n",
       "46   26     189\n",
       "47   27     190\n",
       "48   27     191\n",
       "49   27     191\n",
       "50   27     192\n",
       "51   27     193\n",
       "52   28     194\n",
       "53   28     193\n",
       "54   28     194\n",
       "55   28     193"
      ]
     },
     "execution_count": 4,
     "metadata": {},
     "output_type": "execute_result"
    }
   ],
   "source": [
    "data"
   ]
  },
  {
   "cell_type": "code",
   "execution_count": 5,
   "id": "f82094fc",
   "metadata": {},
   "outputs": [],
   "source": [
    "X = data.iloc[:,:-1].values\n",
    "Y = data.iloc[:,1].values"
   ]
  },
  {
   "cell_type": "markdown",
   "id": "1c8ffabd",
   "metadata": {},
   "source": [
    "# 数据集分割"
   ]
  },
  {
   "cell_type": "code",
   "execution_count": 6,
   "id": "bf1713e5",
   "metadata": {},
   "outputs": [],
   "source": [
    "from sklearn.model_selection import train_test_split\n",
    "x_train,x_test,y_train,y_test = train_test_split(X,Y,test_size=0.3,random_state=0)"
   ]
  },
  {
   "cell_type": "code",
   "execution_count": 7,
   "id": "894d3aac",
   "metadata": {},
   "outputs": [
    {
     "data": {
      "text/plain": [
       "(39, 1)"
      ]
     },
     "execution_count": 7,
     "metadata": {},
     "output_type": "execute_result"
    }
   ],
   "source": [
    "x_train.shape"
   ]
  },
  {
   "cell_type": "markdown",
   "id": "22f3aa6a",
   "metadata": {},
   "source": [
    "# 分析"
   ]
  },
  {
   "cell_type": "code",
   "execution_count": 8,
   "id": "ceb00e06",
   "metadata": {},
   "outputs": [
    {
     "data": {
      "text/plain": [
       "LinearRegression()"
      ]
     },
     "execution_count": 8,
     "metadata": {},
     "output_type": "execute_result"
    }
   ],
   "source": [
    "from sklearn.linear_model import LinearRegression\n",
    "LinReg = LinearRegression()\n",
    "LinReg.fit(x_train,y_train) #将训练集输入线性回归"
   ]
  },
  {
   "cell_type": "code",
   "execution_count": 9,
   "id": "2abe2778",
   "metadata": {},
   "outputs": [],
   "source": [
    "y_predict = LinReg.predict(x_test) #利用x测试集参数预测出y_predict"
   ]
  },
  {
   "cell_type": "code",
   "execution_count": 10,
   "id": "e9490dce",
   "metadata": {},
   "outputs": [
    {
     "data": {
      "text/plain": [
       "array([189, 176, 184, 163, 145, 134, 178, 187, 189, 172, 136, 146, 168,\n",
       "       159, 173, 191, 184], dtype=int64)"
      ]
     },
     "execution_count": 10,
     "metadata": {},
     "output_type": "execute_result"
    }
   ],
   "source": [
    "y_test"
   ]
  },
  {
   "cell_type": "code",
   "execution_count": 11,
   "id": "93089e31",
   "metadata": {},
   "outputs": [],
   "source": [
    "from sklearn.metrics import r2_score\n",
    "score1 = r2_score(y_test,y_predict)"
   ]
  },
  {
   "cell_type": "code",
   "execution_count": 12,
   "id": "b32e59ea",
   "metadata": {},
   "outputs": [
    {
     "data": {
      "text/plain": [
       "0.9199067803464431"
      ]
     },
     "execution_count": 12,
     "metadata": {},
     "output_type": "execute_result"
    }
   ],
   "source": [
    "score1"
   ]
  },
  {
   "cell_type": "code",
   "execution_count": 13,
   "id": "a38c3728",
   "metadata": {},
   "outputs": [
    {
     "data": {
      "image/png": "[encoded data removed]",
      "text/plain": [
       "<Figure size 432x288 with 1 Axes>"
      ]
     },
     "metadata": {
      "needs_background": "light"
     },
     "output_type": "display_data"
    }
   ],
   "source": [
    "plt.scatter(x_train,y_train,color=\"green\")\n",
    "\n",
    "plt.plot(x_test,LinReg.predict(x_test),color=\"blue\")\n",
    "# plt.plot(x_train,LinReg.predict(x_train),color=\"red\")\n",
    "plt.show()"
   ]
  },
  {
   "cell_type": "code",
   "execution_count": 14,
   "id": "4676b039",
   "metadata": {},
   "outputs": [
    {
     "data": {
      "text/plain": [
       "array([[1.0000e+00, 1.2000e+01, 1.4400e+02, 1.7280e+03],\n",
       "       [1.0000e+00, 1.5000e+01, 2.2500e+02, 3.3750e+03],\n",
       "       [1.0000e+00, 1.8000e+01, 3.2400e+02, 5.8320e+03],\n",
       "       [1.0000e+00, 2.1000e+01, 4.4100e+02, 9.2610e+03],\n",
       "       [1.0000e+00, 2.7000e+01, 7.2900e+02, 1.9683e+04],\n",
       "       [1.0000e+00, 1.6000e+01, 2.5600e+02, 4.0960e+03],\n",
       "       [1.0000e+00, 2.8000e+01, 7.8400e+02, 2.1952e+04],\n",
       "       [1.0000e+00, 2.0000e+01, 4.0000e+02, 8.0000e+03],\n",
       "       [1.0000e+00, 1.5000e+01, 2.2500e+02, 3.3750e+03],\n",
       "       [1.0000e+00, 1.1000e+01, 1.2100e+02, 1.3310e+03],\n",
       "       [1.0000e+00, 1.8000e+01, 3.2400e+02, 5.8320e+03],\n",
       "       [1.0000e+00, 1.5000e+01, 2.2500e+02, 3.3750e+03],\n",
       "       [1.0000e+00, 2.8000e+01, 7.8400e+02, 2.1952e+04],\n",
       "       [1.0000e+00, 1.6000e+01, 2.5600e+02, 4.0960e+03],\n",
       "       [1.0000e+00, 2.7000e+01, 7.2900e+02, 1.9683e+04],\n",
       "       [1.0000e+00, 1.2000e+01, 1.4400e+02, 1.7280e+03],\n",
       "       [1.0000e+00, 1.4000e+01, 1.9600e+02, 2.7440e+03],\n",
       "       [1.0000e+00, 1.8000e+01, 3.2400e+02, 5.8320e+03],\n",
       "       [1.0000e+00, 1.5000e+01, 2.2500e+02, 3.3750e+03],\n",
       "       [1.0000e+00, 2.3000e+01, 5.2900e+02, 1.2167e+04],\n",
       "       [1.0000e+00, 2.8000e+01, 7.8400e+02, 2.1952e+04],\n",
       "       [1.0000e+00, 2.2000e+01, 4.8400e+02, 1.0648e+04],\n",
       "       [1.0000e+00, 1.0000e+01, 1.0000e+02, 1.0000e+03],\n",
       "       [1.0000e+00, 1.4000e+01, 1.9600e+02, 2.7440e+03],\n",
       "       [1.0000e+00, 2.4000e+01, 5.7600e+02, 1.3824e+04],\n",
       "       [1.0000e+00, 1.7000e+01, 2.8900e+02, 4.9130e+03],\n",
       "       [1.0000e+00, 1.2000e+01, 1.4400e+02, 1.7280e+03],\n",
       "       [1.0000e+00, 1.7000e+01, 2.8900e+02, 4.9130e+03],\n",
       "       [1.0000e+00, 2.1000e+01, 4.4100e+02, 9.2610e+03],\n",
       "       [1.0000e+00, 1.6000e+01, 2.5600e+02, 4.0960e+03],\n",
       "       [1.0000e+00, 1.6000e+01, 2.5600e+02, 4.0960e+03],\n",
       "       [1.0000e+00, 1.3000e+01, 1.6900e+02, 2.1970e+03],\n",
       "       [1.0000e+00, 2.2000e+01, 4.8400e+02, 1.0648e+04],\n",
       "       [1.0000e+00, 2.7000e+01, 7.2900e+02, 1.9683e+04],\n",
       "       [1.0000e+00, 1.1000e+01, 1.2100e+02, 1.3310e+03],\n",
       "       [1.0000e+00, 1.0000e+01, 1.0000e+02, 1.0000e+03],\n",
       "       [1.0000e+00, 2.8000e+01, 7.8400e+02, 2.1952e+04],\n",
       "       [1.0000e+00, 2.7000e+01, 7.2900e+02, 1.9683e+04],\n",
       "       [1.0000e+00, 2.6000e+01, 6.7600e+02, 1.7576e+04]])"
      ]
     },
     "execution_count": 14,
     "metadata": {},
     "output_type": "execute_result"
    }
   ],
   "source": [
    "# 引入 polynomial  多项式回归分析\n",
    "from sklearn.preprocessing import PolynomialFeatures\n",
    "\n",
    "polynom = PolynomialFeatures(degree = 3) #degree 表示多项式次数\n",
    "x_polynom = polynom.fit_transform(x_train)\n",
    "\n",
    "x_polynom"
   ]
  },
  {
   "cell_type": "code",
   "execution_count": 15,
   "id": "e9e7b3dc",
   "metadata": {},
   "outputs": [
    {
     "data": {
      "text/plain": [
       "LinearRegression()"
      ]
     },
     "execution_count": 15,
     "metadata": {},
     "output_type": "execute_result"
    }
   ],
   "source": [
    "PolyReg = LinearRegression()\n",
    "PolyReg.fit(x_polynom,y_train)"
   ]
  },
  {
   "cell_type": "code",
   "execution_count": 16,
   "id": "4bb8bab0",
   "metadata": {},
   "outputs": [
    {
     "data": {
      "text/plain": [
       "<matplotlib.collections.PathCollection at 0x2e7e24d9fd0>"
      ]
     },
     "execution_count": 16,
     "metadata": {},
     "output_type": "execute_result"
    },
    {
     "data": {
      "image/png": "[encoded data removed]",
      "text/plain": [
       "<Figure size 432x288 with 1 Axes>"
      ]
     },
     "metadata": {
      "needs_background": "light"
     },
     "output_type": "display_data"
    }
   ],
   "source": [
    "plt.plot(x_train,PolyReg.predict(polynom.fit_transform(x_train)),color=\"yellow\")\n",
    "plt.plot(x_test,PolyReg.predict(polynom.fit_transform(x_test)),color=\"blue\")\n",
    "\n",
    "plt.scatter(x_test,y_test,color=\"red\")"
   ]
  },
  {
   "cell_type": "code",
   "execution_count": 17,
   "id": "f1a2d747",
   "metadata": {},
   "outputs": [],
   "source": [
    "y_predict_sir = PolyReg.predict(polynom.fit_transform(x_test))\n",
    "r_square = r2_score(y_test,y_predict_sir)"
   ]
  },
  {
   "cell_type": "code",
   "execution_count": 18,
   "id": "664d2886",
   "metadata": {},
   "outputs": [
    {
     "data": {
      "text/plain": [
       "0.9727808616410413"
      ]
     },
     "execution_count": 18,
     "metadata": {},
     "output_type": "execute_result"
    }
   ],
   "source": [
    "r_square"
   ]
  },
  {
   "cell_type": "markdown",
   "id": "d60966f5",
   "metadata": {},
   "source": [
    "## from sklearn.model_selection import train_test_split  训练集测试集分割\n",
    "## from sklearn.linear_model import LinearRegression   线性回归分析\n",
    "## from sklearn.metrics import r2_score                            分数\n",
    "## from sklearn.preprocessing import PolynomialFeatures  多项式分析"
   ]
  }
 ],
 "metadata": {
  "kernelspec": {
   "display_name": "Python 3 (ipykernel)",
   "language": "python",
   "name": "python3"
  },
  "language_info": {
   "codemirror_mode": {
    "name": "ipython",
    "version": 3
   },
   "file_extension": ".py",
   "mimetype": "text/x-python",
   "name": "python",
   "nbconvert_exporter": "python",
   "pygments_lexer": "ipython3",
   "version": "3.9.12"
  }
 },
 "nbformat": 4,
 "nbformat_minor": 5
}

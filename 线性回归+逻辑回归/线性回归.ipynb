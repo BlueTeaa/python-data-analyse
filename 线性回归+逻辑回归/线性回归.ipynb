{
 "cells": [
  {
   "cell_type": "markdown",
   "id": "ef1456dc",
   "metadata": {},
   "source": [
    "# 使用python应用linear regression线性回归"
   ]
  },
  {
   "cell_type": "code",
   "execution_count": 2,
   "id": "96ed3d50",
   "metadata": {},
   "outputs": [],
   "source": [
    "import numpy as np\n",
    "import matplotlib.pyplot as plt\n",
    "from sklearn.linear_model import LinearRegression"
   ]
  },
  {
   "cell_type": "code",
   "execution_count": 3,
   "id": "57ab181c",
   "metadata": {},
   "outputs": [],
   "source": [
    "x = np.array([10,20,30,40,50,60])\n",
    "y = np.array([14,23,47,58,65,89])"
   ]
  },
  {
   "cell_type": "code",
   "execution_count": 4,
   "id": "13df7872",
   "metadata": {},
   "outputs": [],
   "source": [
    "linreg = LinearRegression()"
   ]
  },
  {
   "cell_type": "code",
   "execution_count": 8,
   "id": "cf9630aa",
   "metadata": {},
   "outputs": [],
   "source": [
    "X = x.reshape(-1,1)"
   ]
  },
  {
   "cell_type": "code",
   "execution_count": 9,
   "id": "2825b1e1",
   "metadata": {},
   "outputs": [
    {
     "data": {
      "text/plain": [
       "LinearRegression()"
      ]
     },
     "execution_count": 9,
     "metadata": {},
     "output_type": "execute_result"
    }
   ],
   "source": [
    "linreg.fit(X,y)"
   ]
  },
  {
   "cell_type": "code",
   "execution_count": 11,
   "id": "6d353b8e",
   "metadata": {},
   "outputs": [],
   "source": [
    "y_predict = linreg.predict(X)"
   ]
  },
  {
   "cell_type": "code",
   "execution_count": 13,
   "id": "897daaed",
   "metadata": {},
   "outputs": [
    {
     "data": {
      "image/png": "[encoded data removed]",
      "text/plain": [
       "<Figure size 432x288 with 1 Axes>"
      ]
     },
     "metadata": {
      "needs_background": "light"
     },
     "output_type": "display_data"
    }
   ],
   "source": [
    "plt.scatter(X,y)\n",
    "plt.plot(X,y_predict,\"green\")\n",
    "plt.show()"
   ]
  },
  {
   "cell_type": "code",
   "execution_count": 14,
   "id": "3d942ea7",
   "metadata": {},
   "outputs": [
    {
     "name": "stdout",
     "output_type": "stream",
     "text": [
      "[0.85714286]\n"
     ]
    }
   ],
   "source": [
    "print(linreg.coef_) #查看斜率"
   ]
  },
  {
   "cell_type": "code",
   "execution_count": 15,
   "id": "cb0ae3a3",
   "metadata": {},
   "outputs": [
    {
     "name": "stdout",
     "output_type": "stream",
     "text": [
      "19.333333333333332\n"
     ]
    }
   ],
   "source": [
    "print(linreg.intercept_ )"
   ]
  },
  {
   "cell_type": "markdown",
   "id": "d53a0df4",
   "metadata": {},
   "source": [
    "# 多元线性回归"
   ]
  },
  {
   "cell_type": "code",
   "execution_count": null,
   "id": "d9789fa0",
   "metadata": {},
   "outputs": [],
   "source": []
  },
  {
   "cell_type": "code",
   "execution_count": null,
   "id": "dc08d78c",
   "metadata": {},
   "outputs": [],
   "source": []
  }
 ],
 "metadata": {
  "kernelspec": {
   "display_name": "Python 3 (ipykernel)",
   "language": "python",
   "name": "python3"
  },
  "language_info": {
   "codemirror_mode": {
    "name": "ipython",
    "version": 3
   },
   "file_extension": ".py",
   "mimetype": "text/x-python",
   "name": "python",
   "nbconvert_exporter": "python",
   "pygments_lexer": "ipython3",
   "version": "3.9.12"
  }
 },
 "nbformat": 4,
 "nbformat_minor": 5
}
